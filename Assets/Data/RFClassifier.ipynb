{
  "nbformat": 4,
  "nbformat_minor": 0,
  "metadata": {
    "colab": {
      "name": "RFClassifier.ipynb",
      "provenance": [],
      "collapsed_sections": [],
      "toc_visible": true
    },
    "kernelspec": {
      "display_name": "Python 3",
      "language": "python",
      "name": "python3"
    },
    "language_info": {
      "codemirror_mode": {
        "name": "ipython",
        "version": 3
      },
      "file_extension": ".py",
      "mimetype": "text/x-python",
      "name": "python",
      "nbconvert_exporter": "python",
      "pygments_lexer": "ipython3",
      "version": "3.8.5"
    },
    "widgets": {
      "application/vnd.jupyter.widget-state+json": {
        "e292374b5c4c492d85db80858453595e": {
          "model_module": "jupyter-matplotlib",
          "model_name": "MPLCanvasModel",
          "state": {
            "_view_name": "MPLCanvasView",
            "_view_module": "jupyter-matplotlib",
            "_figure_label": "Figure",
            "_view_count": null,
            "_cursor": "pointer",
            "capture_scroll": false,
            "layout": "IPY_MODEL_252d461ba55d4ad4b69e07aaa120b054",
            "_model_module": "jupyter-matplotlib",
            "footer_visible": true,
            "_image_mode": "full",
            "_dom_classes": [],
            "resizable": true,
            "_model_name": "MPLCanvasModel",
            "_height": 0,
            "header_visible": true,
            "_model_module_version": "^0.7.4",
            "_rubberband_x": 0,
            "_rubberband_y": 0,
            "toolbar": "IPY_MODEL_536c59091bf844b08dc9f55130255ee4",
            "toolbar_visible": true,
            "_rubberband_width": 0,
            "_width": 0,
            "_message": "",
            "_rubberband_height": 0,
            "_view_module_version": "^0.7.4",
            "toolbar_position": "left"
          }
        },
        "1424b5b517d049a4a6553ef107942d8e": {
          "model_module": "jupyter-matplotlib",
          "model_name": "MPLCanvasModel",
          "state": {
            "_view_name": "MPLCanvasView",
            "_view_module": "jupyter-matplotlib",
            "_figure_label": "Figure",
            "_view_count": null,
            "_cursor": "pointer",
            "capture_scroll": false,
            "layout": "IPY_MODEL_66758123290f4ecfb2aa498244386b20",
            "_model_module": "jupyter-matplotlib",
            "footer_visible": true,
            "_image_mode": "full",
            "_dom_classes": [],
            "resizable": true,
            "_model_name": "MPLCanvasModel",
            "_height": 0,
            "header_visible": true,
            "_model_module_version": "^0.7.4",
            "_rubberband_x": 0,
            "_rubberband_y": 0,
            "toolbar": "IPY_MODEL_ccbc11df500543d8bbadba1e4983b537",
            "toolbar_visible": true,
            "_rubberband_width": 0,
            "_width": 0,
            "_message": "",
            "_rubberband_height": 0,
            "_view_module_version": "^0.7.4",
            "toolbar_position": "left"
          }
        }
      }
    }
  },
  "cells": [
    {
      "cell_type": "code",
      "metadata": {
        "id": "TtItElX7TAb1"
      },
      "source": [
        "!pip install ipympl"
      ],
      "execution_count": null,
      "outputs": []
    },
    {
      "cell_type": "code",
      "metadata": {
        "id": "Zcj7bzix-WHJ"
      },
      "source": [
        "import pandas as pd \n",
        "import numpy as np\n",
        "import matplotlib.pyplot as plt \n",
        "\n",
        "%matplotlib widget\n",
        "\n",
        "#inspired by https://towardsdatascience.com/hyperparameter-tuning-the-random-forest-in-python-using-scikit-learn-28d2aa77dd74"
      ],
      "execution_count": 3,
      "outputs": []
    },
    {
      "cell_type": "markdown",
      "metadata": {
        "id": "rIrfbNH2-WHn"
      },
      "source": [
        "data = pd.read_excel('data.xlsx')\n",
        "data.head()\n",
        "\n",
        "X = data.iloc[:, 0:212].values #features\n",
        "y = data.iloc[:, 212].values   #labels\n",
        "\n",
        "np.save('X', X)\n",
        "np.save('y', y)"
      ]
    },
    {
      "cell_type": "code",
      "metadata": {
        "id": "s4eZoer3TNaq"
      },
      "source": [
        "data = pd.read_excel('data.xlsx') \n",
        "\n",
        "X = data.iloc[:, 0:212].values #features \n",
        "y = data.iloc[:, 212].values #labels\n",
        "\n",
        "np.save('X', X) \n",
        "np.save('y', y)"
      ],
      "execution_count": 7,
      "outputs": []
    },
    {
      "cell_type": "markdown",
      "metadata": {
        "id": "fDSIpVP3-WHp"
      },
      "source": [
        "### Load Data + Analysis"
      ]
    },
    {
      "cell_type": "code",
      "metadata": {
        "id": "m9dtLpl4-WHq"
      },
      "source": [
        "X = np.load('X.npy')\n",
        "y = np.load('y.npy')"
      ],
      "execution_count": 8,
      "outputs": []
    },
    {
      "cell_type": "code",
      "metadata": {
        "id": "v-TpCwN1-WH2",
        "outputId": "35b30621-5039-44f5-8846-d66c3f8758c3",
        "colab": {
          "base_uri": "https://localhost:8080/",
          "height": 17,
          "referenced_widgets": [
            "e292374b5c4c492d85db80858453595e"
          ]
        }
      },
      "source": [
        "fig = plt.figure()\n",
        "_ = plt.hist(y)\n",
        "plt.xlabel('Decision')\n",
        "plt.ylabel('# Occurence')\n",
        "plt.suptitle('Histogram of Decision')\n",
        "plt.show()\n",
        "\n",
        "## On vérifie que la distribution est \"logique\" \n",
        "# et ça se vérifie car plus grande distribution en 0 (donc ne rien faire) ok mais attention "
      ],
      "execution_count": 11,
      "outputs": [
        {
          "output_type": "display_data",
          "data": {
            "application/vnd.jupyter.widget-view+json": {
              "model_id": "e292374b5c4c492d85db80858453595e",
              "version_minor": 0,
              "version_major": 2
            },
            "text/plain": [
              "Canvas(toolbar=Toolbar(toolitems=[('Home', 'Reset original view', 'home', 'home'), ('Back', 'Back to previous …"
            ]
          },
          "metadata": {
            "tags": []
          }
        }
      ]
    },
    {
      "cell_type": "code",
      "metadata": {
        "id": "OLxdqQ9i-WIB"
      },
      "source": [
        "#on peut normalizer les données ici\n",
        "\n",
        "X[:,0] = (X[:,0]-X[:,0].min())/np.max(X[:,0] - X[:,0].min()) #position en x [0,1]\n",
        "X[:,1] = (X[:,1]-X[:,1].min())/np.max(X[:,1] - X[:,1].min()) #position en y [0,1]\n",
        "X[:,2] = X[:,2]/360 #degre -> [0 1]\n",
        "\n",
        "d_max = np.max(X[:, 4::4]) #on prend tous les éléments de l'array qui correspondent à la distance et on calcule la distance max\n",
        "X[:, 4::4] = X[:, 4::4]/d_max #distance entre [0 1]"
      ],
      "execution_count": 12,
      "outputs": []
    },
    {
      "cell_type": "code",
      "metadata": {
        "id": "HibK_gEi-WIJ",
        "outputId": "be2b3d5e-54ba-4867-b14a-eed63ad5629a",
        "colab": {
          "base_uri": "https://localhost:8080/",
          "height": 34,
          "referenced_widgets": [
            "1424b5b517d049a4a6553ef107942d8e"
          ]
        }
      },
      "source": [
        "# Ici on va vérifier qu'on ait pas des lignes totatement vide (donc non pertinentes pour un algo ML)\n",
        "id_sup = []\n",
        "fig = plt.figure()\n",
        "for i in range(X.shape[1]):\n",
        "    if X[:,i].min() == X[:,i].max(): #si max = min => pas de variation\n",
        "        plt.plot(X[:,i], label='ligne : '+str(i))\n",
        "        id_sup.append(i)\n",
        "plt.show()\n",
        "print(\"Il y a {} lignes vides sur les {}.\".format(len(id_sup), i+1)) #aïe aïe\n",
        "\n",
        "X = np.delete(X, id_sup, axis=1)"
      ],
      "execution_count": 13,
      "outputs": [
        {
          "output_type": "display_data",
          "data": {
            "application/vnd.jupyter.widget-view+json": {
              "model_id": "1424b5b517d049a4a6553ef107942d8e",
              "version_minor": 0,
              "version_major": 2
            },
            "text/plain": [
              "Canvas(toolbar=Toolbar(toolitems=[('Home', 'Reset original view', 'home', 'home'), ('Back', 'Back to previous …"
            ]
          },
          "metadata": {
            "tags": []
          }
        },
        {
          "output_type": "stream",
          "text": [
            "Il y a 56 lignes vides sur les 212.\n"
          ],
          "name": "stdout"
        }
      ]
    },
    {
      "cell_type": "code",
      "metadata": {
        "id": "OP7djDGJ-WIR",
        "outputId": "56aa71ea-ca70-4470-8f9b-962e00011e95",
        "colab": {
          "base_uri": "https://localhost:8080/"
        }
      },
      "source": [
        "X.shape"
      ],
      "execution_count": 14,
      "outputs": [
        {
          "output_type": "execute_result",
          "data": {
            "text/plain": [
              "(4804, 156)"
            ]
          },
          "metadata": {
            "tags": []
          },
          "execution_count": 14
        }
      ]
    },
    {
      "cell_type": "markdown",
      "metadata": {
        "id": "Ulf54DIM-WIY"
      },
      "source": [
        "### Random Forest"
      ]
    },
    {
      "cell_type": "code",
      "metadata": {
        "id": "XCuFI1oT-WIc"
      },
      "source": [
        "# import\n",
        "from sklearn.model_selection import train_test_split\n",
        "from sklearn.ensemble import RandomForestClassifier\n",
        "from sklearn.model_selection import GridSearchCV\n",
        "from sklearn.pipeline import Pipeline"
      ],
      "execution_count": 15,
      "outputs": []
    },
    {
      "cell_type": "code",
      "metadata": {
        "id": "MPY8RO_h-WIp"
      },
      "source": [
        "#X_train, X_test, y_train, y_test = train_test_split(X, y, test_size=0.2, random_state=42)\n",
        "cf = RandomForestClassifier(n_jobs=-1)"
      ],
      "execution_count": 16,
      "outputs": []
    },
    {
      "cell_type": "code",
      "metadata": {
        "id": "Jdf28KSP-WIu"
      },
      "source": [
        "# Number of trees in random forest\n",
        "n_estimators = [10, 100, 1000]\n",
        "# Number of features to consider at every split\n",
        "max_features = ['auto', 'sqrt']\n",
        "# Maximum number of levels in tree\n",
        "max_depth = [10, 100]\n",
        "max_depth.append(None)\n",
        "# Minimum number of samples required to split a node\n",
        "min_samples_split = [2, 10]\n",
        "# Minimum number of samples required at each leaf node\n",
        "min_samples_leaf = [1, 2, 4]\n",
        "# Method of selecting samples for training each tree\n",
        "bootstrap = [True, False]\n",
        "# Create the random grid\n",
        "params_grid = {'n_estimators': n_estimators,\n",
        "               'max_features': max_features,\n",
        "               'max_depth': max_depth,\n",
        "               'min_samples_split': min_samples_split,\n",
        "               'min_samples_leaf': min_samples_leaf,\n",
        "               'bootstrap': bootstrap}"
      ],
      "execution_count": 17,
      "outputs": []
    },
    {
      "cell_type": "code",
      "metadata": {
        "id": "ZW88WgMQ-WI5",
        "outputId": "e6543570-c08e-4b58-f9b7-3fab7600a88c",
        "colab": {
          "base_uri": "https://localhost:8080/"
        }
      },
      "source": [
        "grid_search = GridSearchCV(estimator=cf, param_grid=params_grid, cv=5)\n",
        "grid_search.fit(X, y)"
      ],
      "execution_count": 18,
      "outputs": [
        {
          "output_type": "execute_result",
          "data": {
            "text/plain": [
              "GridSearchCV(cv=5, error_score=nan,\n",
              "             estimator=RandomForestClassifier(bootstrap=True, ccp_alpha=0.0,\n",
              "                                              class_weight=None,\n",
              "                                              criterion='gini', max_depth=None,\n",
              "                                              max_features='auto',\n",
              "                                              max_leaf_nodes=None,\n",
              "                                              max_samples=None,\n",
              "                                              min_impurity_decrease=0.0,\n",
              "                                              min_impurity_split=None,\n",
              "                                              min_samples_leaf=1,\n",
              "                                              min_samples_split=2,\n",
              "                                              min_weight_fraction_leaf=0.0,\n",
              "                                              n_estimators=100, n_jobs=-1,\n",
              "                                              oob_score=False,\n",
              "                                              random_state=None, verbose=0,\n",
              "                                              warm_start=False),\n",
              "             iid='deprecated', n_jobs=None,\n",
              "             param_grid={'bootstrap': [True, False],\n",
              "                         'max_depth': [10, 100, None],\n",
              "                         'max_features': ['auto', 'sqrt'],\n",
              "                         'min_samples_leaf': [1, 2, 4],\n",
              "                         'min_samples_split': [2, 10],\n",
              "                         'n_estimators': [10, 100, 1000]},\n",
              "             pre_dispatch='2*n_jobs', refit=True, return_train_score=False,\n",
              "             scoring=None, verbose=0)"
            ]
          },
          "metadata": {
            "tags": []
          },
          "execution_count": 18
        }
      ]
    },
    {
      "cell_type": "markdown",
      "metadata": {
        "id": "hRU-A3f5oRnK"
      },
      "source": [
        "## Save Model"
      ]
    },
    {
      "cell_type": "code",
      "metadata": {
        "id": "STOlqBYkocIQ"
      },
      "source": [
        "import pickle\n",
        "\n",
        "# Save to file in the current working directory\n",
        "pkl_filename = \"pickle_model.pkl\"\n",
        "\n",
        "with open(pkl_filename, 'wb') as file:\n",
        "    pickle.dump(grid_search, file)\n"
      ],
      "execution_count": 20,
      "outputs": []
    }
  ]
}